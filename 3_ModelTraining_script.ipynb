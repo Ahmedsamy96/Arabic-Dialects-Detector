{
 "cells": [
  {
   "cell_type": "markdown",
   "metadata": {},
   "source": [
    "# Needed libararies"
   ]
  },
  {
   "cell_type": "code",
   "execution_count": 36,
   "metadata": {},
   "outputs": [],
   "source": [
    "import pandas as pd\n",
    "import pickle\n",
    "from sklearn.model_selection import train_test_split, GridSearchCV\n",
    "from sklearn.feature_extraction.text import TfidfVectorizer\n",
    "from sklearn.pipeline import make_pipeline\n",
    "from sklearn.naive_bayes import MultinomialNB\n",
    "from sklearn.naive_bayes import ComplementNB\n",
    "from sklearn.metrics import confusion_matrix,accuracy_score, classification_report"
   ]
  },
  {
   "cell_type": "markdown",
   "metadata": {},
   "source": [
    "# Reading the preprocessing step's output and spliting the data"
   ]
  },
  {
   "cell_type": "code",
   "execution_count": 37,
   "metadata": {},
   "outputs": [],
   "source": [
    "data = pd.read_csv('outputs/output_2.csv')\n",
    "X_train, X_test, y_train, y_test = train_test_split(data['Text'], data['dialect'],  test_size=0.1, random_state=42)"
   ]
  },
  {
   "cell_type": "markdown",
   "metadata": {},
   "source": [
    "# Naive Bayes"
   ]
  },
  {
   "cell_type": "code",
   "execution_count": 39,
   "metadata": {},
   "outputs": [
    {
     "name": "stdout",
     "output_type": "stream",
     "text": [
      "Accuracy score is 0.40\n",
      "              precision    recall  f1-score   support\n",
      "\n",
      "           1       0.36      0.97      0.52      5759\n",
      "           2       0.34      0.67      0.45      4520\n",
      "           3       0.28      0.81      0.42      4167\n",
      "           4       0.66      0.57      0.61      3653\n",
      "           5       0.52      0.38      0.44      3065\n",
      "           6       0.81      0.07      0.12      2754\n",
      "           7       0.81      0.42      0.56      2731\n",
      "           8       0.64      0.14      0.23      2562\n",
      "           9       0.71      0.15      0.25      2551\n",
      "          10       0.78      0.08      0.15      2637\n",
      "          11       0.95      0.03      0.06      1972\n",
      "          12       0.98      0.03      0.06      1621\n",
      "          13       0.92      0.17      0.29      1738\n",
      "          14       0.94      0.10      0.19      1548\n",
      "          15       1.00      0.06      0.10      1462\n",
      "          16       0.98      0.24      0.38      1166\n",
      "          17       1.00      0.01      0.02       990\n",
      "          18       0.96      0.02      0.05       904\n",
      "\n",
      "    accuracy                           0.40     45800\n",
      "   macro avg       0.76      0.27      0.27     45800\n",
      "weighted avg       0.65      0.40      0.34     45800\n",
      "\n"
     ]
    }
   ],
   "source": [
    "pipe = make_pipeline(TfidfVectorizer(),\n",
    "                    MultinomialNB())\n",
    "pipe.fit(X_train,y_train)\n",
    "prediction = pipe.predict(X_test)\n",
    "print(f\"Accuracy score is {accuracy_score(y_test, prediction):.2f}\")\n",
    "print(classification_report(y_test, prediction))"
   ]
  },
  {
   "cell_type": "code",
   "execution_count": 25,
   "metadata": {},
   "outputs": [
    {
     "data": {
      "text/plain": [
       "array([18], dtype=int64)"
      ]
     },
     "execution_count": 25,
     "metadata": {},
     "output_type": "execute_result"
    }
   ],
   "source": [
    "pipe.predict([\"شكون احنا\"])"
   ]
  },
  {
   "cell_type": "code",
   "execution_count": 28,
   "metadata": {},
   "outputs": [
    {
     "data": {
      "text/plain": [
       "array([14], dtype=int64)"
      ]
     },
     "execution_count": 28,
     "metadata": {},
     "output_type": "execute_result"
    }
   ],
   "source": [
    "pipe.predict([\"مااخذ اي بشر وحدي\"])"
   ]
  },
  {
   "cell_type": "code",
   "execution_count": 29,
   "metadata": {},
   "outputs": [
    {
     "data": {
      "text/plain": [
       "array([13], dtype=int64)"
      ]
     },
     "execution_count": 29,
     "metadata": {},
     "output_type": "execute_result"
    }
   ],
   "source": [
    "pipe.predict([\"ربي يعطيك ويعطيهم الصحه مع قناعتي انك تنصح ولاتُنصح\"])"
   ]
  },
  {
   "cell_type": "code",
   "execution_count": 26,
   "metadata": {},
   "outputs": [
    {
     "data": {
      "text/plain": [
       "array([14], dtype=int64)"
      ]
     },
     "execution_count": 26,
     "metadata": {},
     "output_type": "execute_result"
    }
   ],
   "source": [
    "pipe.predict([\"اني تعبت هسه من الحديث معهم\"])"
   ]
  },
  {
   "cell_type": "markdown",
   "metadata": {},
   "source": [
    "# Using ComplementNB instead of MultinomialNB as it deal better with imbalanced data"
   ]
  },
  {
   "cell_type": "code",
   "execution_count": 40,
   "metadata": {},
   "outputs": [
    {
     "name": "stdout",
     "output_type": "stream",
     "text": [
      "Accuracy score is 0.53\n",
      "              precision    recall  f1-score   support\n",
      "\n",
      "           1       0.58      0.92      0.71      5759\n",
      "           2       0.48      0.55      0.51      4520\n",
      "           3       0.44      0.62      0.51      4167\n",
      "           4       0.66      0.67      0.67      3653\n",
      "           5       0.44      0.51      0.47      3065\n",
      "           6       0.48      0.25      0.33      2754\n",
      "           7       0.57      0.69      0.63      2731\n",
      "           8       0.44      0.40      0.42      2562\n",
      "           9       0.44      0.39      0.41      2551\n",
      "          10       0.43      0.30      0.36      2637\n",
      "          11       0.48      0.25      0.33      1972\n",
      "          12       0.54      0.23      0.32      1621\n",
      "          13       0.66      0.52      0.58      1738\n",
      "          14       0.67      0.52      0.58      1548\n",
      "          15       0.71      0.46      0.56      1462\n",
      "          16       0.70      0.64      0.67      1166\n",
      "          17       0.45      0.14      0.22       990\n",
      "          18       0.64      0.40      0.49       904\n",
      "\n",
      "    accuracy                           0.53     45800\n",
      "   macro avg       0.55      0.47      0.49     45800\n",
      "weighted avg       0.53      0.53      0.51     45800\n",
      "\n"
     ]
    }
   ],
   "source": [
    "pipe = make_pipeline(TfidfVectorizer(),\n",
    "                    ComplementNB())\n",
    "pipe.fit(X_train,y_train)\n",
    "prediction = pipe.predict(X_test)\n",
    "print(f\"Accuracy score is {accuracy_score(y_test, prediction):.2f}\")\n",
    "print(classification_report(y_test, prediction))"
   ]
  },
  {
   "cell_type": "code",
   "execution_count": 57,
   "metadata": {},
   "outputs": [
    {
     "data": {
      "text/plain": [
       "array([2], dtype=int64)"
      ]
     },
     "execution_count": 57,
     "metadata": {},
     "output_type": "execute_result"
    }
   ],
   "source": [
    "pipe.predict([\"ايش تجول انت\"])\n"
   ]
  },
  {
   "cell_type": "markdown",
   "metadata": {},
   "source": [
    "# Save the model as a pkl file to be used in the model deployment"
   ]
  },
  {
   "cell_type": "code",
   "execution_count": 42,
   "metadata": {},
   "outputs": [],
   "source": [
    "\n",
    "pickle.dump(pipe, open('outputs/output_4.pkl', 'wb'))"
   ]
  },
  {
   "cell_type": "code",
   "execution_count": null,
   "metadata": {},
   "outputs": [],
   "source": []
  }
 ],
 "metadata": {
  "kernelspec": {
   "display_name": "Python 3",
   "language": "python",
   "name": "python3"
  },
  "language_info": {
   "codemirror_mode": {
    "name": "ipython",
    "version": 3
   },
   "file_extension": ".py",
   "mimetype": "text/x-python",
   "name": "python",
   "nbconvert_exporter": "python",
   "pygments_lexer": "ipython3",
   "version": "3.8.5"
  }
 },
 "nbformat": 4,
 "nbformat_minor": 4
}
